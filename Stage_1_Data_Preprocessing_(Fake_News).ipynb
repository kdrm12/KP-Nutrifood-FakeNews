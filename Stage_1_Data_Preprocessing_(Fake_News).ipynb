{
  "nbformat": 4,
  "nbformat_minor": 0,
  "metadata": {
    "colab": {
      "provenance": [],
      "include_colab_link": true
    },
    "kernelspec": {
      "name": "python3",
      "display_name": "Python 3"
    },
    "language_info": {
      "name": "python"
    }
  },
  "cells": [
    {
      "cell_type": "markdown",
      "metadata": {
        "id": "view-in-github",
        "colab_type": "text"
      },
      "source": [
        "<a href=\"https://colab.research.google.com/github/kdrm12/KP-Nutrifood-FakeNews/blob/main/Stage_1_Data_Preprocessing_(Fake_News).ipynb\" target=\"_parent\"><img src=\"https://colab.research.google.com/assets/colab-badge.svg\" alt=\"Open In Colab\"/></a>"
      ]
    },
    {
      "cell_type": "markdown",
      "source": [
        "# **Introduction**"
      ],
      "metadata": {
        "id": "Z08iFZ09YbSm"
      }
    },
    {
      "cell_type": "markdown",
      "source": [
        "Data yang digunakan pada *preprocessing* adalah [Fake and real News Dataset](https://www.kaggle.com/code/ohseokkim/fake-news-easy-nlp-text-classification/data)."
      ],
      "metadata": {
        "id": "SQS_aHhEYWIK"
      }
    },
    {
      "cell_type": "markdown",
      "source": [
        "# **Download Libraries**"
      ],
      "metadata": {
        "id": "M80obkfwbf21"
      }
    },
    {
      "cell_type": "code",
      "source": [
        "pip install nltk"
      ],
      "metadata": {
        "colab": {
          "base_uri": "https://localhost:8080/"
        },
        "id": "svIONTJYTnwu",
        "outputId": "e3d7c70c-e2c3-4d90-a8a9-84645dc00ee5"
      },
      "execution_count": null,
      "outputs": [
        {
          "output_type": "stream",
          "name": "stdout",
          "text": [
            "Looking in indexes: https://pypi.org/simple, https://us-python.pkg.dev/colab-wheels/public/simple/\n",
            "Requirement already satisfied: nltk in /usr/local/lib/python3.7/dist-packages (3.7)\n",
            "Requirement already satisfied: tqdm in /usr/local/lib/python3.7/dist-packages (from nltk) (4.64.0)\n",
            "Requirement already satisfied: click in /usr/local/lib/python3.7/dist-packages (from nltk) (7.1.2)\n",
            "Requirement already satisfied: joblib in /usr/local/lib/python3.7/dist-packages (from nltk) (1.1.0)\n",
            "Requirement already satisfied: regex>=2021.8.3 in /usr/local/lib/python3.7/dist-packages (from nltk) (2022.6.2)\n"
          ]
        }
      ]
    },
    {
      "cell_type": "code",
      "source": [
        "pip install demoji"
      ],
      "metadata": {
        "colab": {
          "base_uri": "https://localhost:8080/"
        },
        "id": "rzg-lgFsW_kG",
        "outputId": "a0dc3889-ba26-4ace-e579-91d28ab5c2f9"
      },
      "execution_count": null,
      "outputs": [
        {
          "output_type": "stream",
          "name": "stdout",
          "text": [
            "Looking in indexes: https://pypi.org/simple, https://us-python.pkg.dev/colab-wheels/public/simple/\n",
            "Collecting demoji\n",
            "  Downloading demoji-1.1.0-py3-none-any.whl (42 kB)\n",
            "\u001b[K     |████████████████████████████████| 42 kB 1.4 MB/s \n",
            "\u001b[?25hInstalling collected packages: demoji\n",
            "Successfully installed demoji-1.1.0\n"
          ]
        }
      ]
    },
    {
      "cell_type": "code",
      "source": [
        "pip install contractions"
      ],
      "metadata": {
        "colab": {
          "base_uri": "https://localhost:8080/"
        },
        "id": "XUT5LvDPYLD5",
        "outputId": "71df50d9-0c2e-421f-acfa-3d5d1cfe7bf6"
      },
      "execution_count": null,
      "outputs": [
        {
          "output_type": "stream",
          "name": "stdout",
          "text": [
            "Looking in indexes: https://pypi.org/simple, https://us-python.pkg.dev/colab-wheels/public/simple/\n",
            "Collecting contractions\n",
            "  Downloading contractions-0.1.72-py2.py3-none-any.whl (8.3 kB)\n",
            "Collecting textsearch>=0.0.21\n",
            "  Downloading textsearch-0.0.21-py2.py3-none-any.whl (7.5 kB)\n",
            "Collecting pyahocorasick\n",
            "  Downloading pyahocorasick-1.4.4-cp37-cp37m-manylinux_2_17_x86_64.manylinux2014_x86_64.whl (106 kB)\n",
            "\u001b[K     |████████████████████████████████| 106 kB 14.9 MB/s \n",
            "\u001b[?25hCollecting anyascii\n",
            "  Downloading anyascii-0.3.1-py3-none-any.whl (287 kB)\n",
            "\u001b[K     |████████████████████████████████| 287 kB 65.2 MB/s \n",
            "\u001b[?25hInstalling collected packages: pyahocorasick, anyascii, textsearch, contractions\n",
            "Successfully installed anyascii-0.3.1 contractions-0.1.72 pyahocorasick-1.4.4 textsearch-0.0.21\n"
          ]
        }
      ]
    },
    {
      "cell_type": "code",
      "source": [
        "pip install Unidecode"
      ],
      "metadata": {
        "colab": {
          "base_uri": "https://localhost:8080/"
        },
        "id": "Kgo6D98YYeYh",
        "outputId": "4b744eb7-81d6-44f9-c5ed-b371ecc075b2"
      },
      "execution_count": null,
      "outputs": [
        {
          "output_type": "stream",
          "name": "stdout",
          "text": [
            "Looking in indexes: https://pypi.org/simple, https://us-python.pkg.dev/colab-wheels/public/simple/\n",
            "Collecting Unidecode\n",
            "  Downloading Unidecode-1.3.4-py3-none-any.whl (235 kB)\n",
            "\u001b[K     |████████████████████████████████| 235 kB 14.7 MB/s \n",
            "\u001b[?25hInstalling collected packages: Unidecode\n",
            "Successfully installed Unidecode-1.3.4\n"
          ]
        }
      ]
    },
    {
      "cell_type": "code",
      "source": [
        "pip install num2words"
      ],
      "metadata": {
        "colab": {
          "base_uri": "https://localhost:8080/"
        },
        "id": "JXpSMkqMYktn",
        "outputId": "a48e3abc-42c0-4c52-e3d4-366bd23ccaf4"
      },
      "execution_count": null,
      "outputs": [
        {
          "output_type": "stream",
          "name": "stdout",
          "text": [
            "Looking in indexes: https://pypi.org/simple, https://us-python.pkg.dev/colab-wheels/public/simple/\n",
            "Collecting num2words\n",
            "  Downloading num2words-0.5.11-py3-none-any.whl (116 kB)\n",
            "\u001b[K     |████████████████████████████████| 116 kB 14.9 MB/s \n",
            "\u001b[?25hCollecting docopt>=0.6.2\n",
            "  Downloading docopt-0.6.2.tar.gz (25 kB)\n",
            "Building wheels for collected packages: docopt\n",
            "  Building wheel for docopt (setup.py) ... \u001b[?25l\u001b[?25hdone\n",
            "  Created wheel for docopt: filename=docopt-0.6.2-py2.py3-none-any.whl size=13723 sha256=a3612b16444a430862b1900ef9b084a5184aa98de200e909abf97e9f6d27ca23\n",
            "  Stored in directory: /root/.cache/pip/wheels/72/b0/3f/1d95f96ff986c7dfffe46ce2be4062f38ebd04b506c77c81b9\n",
            "Successfully built docopt\n",
            "Installing collected packages: docopt, num2words\n",
            "Successfully installed docopt-0.6.2 num2words-0.5.11\n"
          ]
        }
      ]
    },
    {
      "cell_type": "code",
      "source": [
        "pip install pyspellchecker"
      ],
      "metadata": {
        "id": "CUHIpUB9Yr3e",
        "colab": {
          "base_uri": "https://localhost:8080/"
        },
        "outputId": "c9175744-b6be-4a80-d180-b2e5d166c83a"
      },
      "execution_count": null,
      "outputs": [
        {
          "output_type": "stream",
          "name": "stdout",
          "text": [
            "Looking in indexes: https://pypi.org/simple, https://us-python.pkg.dev/colab-wheels/public/simple/\n",
            "Collecting pyspellchecker\n",
            "  Downloading pyspellchecker-0.6.3-py3-none-any.whl (2.7 MB)\n",
            "\u001b[K     |████████████████████████████████| 2.7 MB 14.0 MB/s \n",
            "\u001b[?25hInstalling collected packages: pyspellchecker\n",
            "Successfully installed pyspellchecker-0.6.3\n"
          ]
        }
      ]
    },
    {
      "cell_type": "markdown",
      "source": [
        "# **Import Libraries**"
      ],
      "metadata": {
        "id": "CZutHoHfbnvG"
      }
    },
    {
      "cell_type": "code",
      "source": [
        "import numpy as np\n",
        "import pandas as pd\n",
        "import re\n",
        "import nltk\n",
        "import spacy\n",
        "import string\n",
        "import demoji\n",
        "import contractions\n",
        "import unidecode\n",
        "from collections import Counter\n",
        "from num2words import num2words\n",
        "from nltk.corpus import stopwords\n",
        "from nltk.stem.porter import PorterStemmer\n",
        "from nltk.stem.snowball import SnowballStemmer\n",
        "from nltk.stem import WordNetLemmatizer\n",
        "from nltk.tokenize import word_tokenize\n",
        "from bs4 import BeautifulSoup\n",
        "from spellchecker import SpellChecker\n",
        "from sklearn.model_selection import train_test_split\n",
        "nltk.download('stopwords')\n",
        "nltk.download('wordnet')\n",
        "nltk.download('omw-1.4')\n",
        "nltk.download('punkt')\n",
        "\n",
        "pd.options.display.max_columns=None\n",
        "pd.options.display.max_rows=None\n",
        "pd.options.display.max_colwidth=None"
      ],
      "metadata": {
        "id": "hJijChzZVLWi",
        "colab": {
          "base_uri": "https://localhost:8080/"
        },
        "outputId": "4086232a-b760-4720-800c-76226ead0e59"
      },
      "execution_count": null,
      "outputs": [
        {
          "output_type": "stream",
          "name": "stderr",
          "text": [
            "[nltk_data] Downloading package stopwords to /root/nltk_data...\n",
            "[nltk_data]   Unzipping corpora/stopwords.zip.\n",
            "[nltk_data] Downloading package wordnet to /root/nltk_data...\n",
            "[nltk_data] Downloading package omw-1.4 to /root/nltk_data...\n",
            "[nltk_data] Downloading package punkt to /root/nltk_data...\n",
            "[nltk_data]   Unzipping tokenizers/punkt.zip.\n"
          ]
        }
      ]
    },
    {
      "cell_type": "markdown",
      "source": [
        "# **Load Data**"
      ],
      "metadata": {
        "id": "1_InajbCcCzy"
      }
    },
    {
      "cell_type": "code",
      "source": [
        "dwn_url='https://drive.google.com/uc?id=' + '1zKSY4d2v6Wf3UUhmd-5d-er30PBMXzGg'\n",
        "fake_df = pd.read_csv(dwn_url)\n",
        "dwn_url='https://drive.google.com/uc?id=' + '1mXmP3ystGW_ALB2XZQPfIzq3xdQOh0wm'\n",
        "true_df = pd.read_csv(dwn_url)"
      ],
      "metadata": {
        "id": "fV4Ea5YaKZxj"
      },
      "execution_count": null,
      "outputs": []
    },
    {
      "cell_type": "code",
      "execution_count": null,
      "metadata": {
        "id": "Txd4n7wbTK38"
      },
      "outputs": [],
      "source": [
        "fake_df[\"output\"] = 0\n",
        "true_df[\"output\"] = 1\n",
        "\n",
        "df = pd.concat([fake_df, true_df])\n",
        "df = df.sample(frac=1).reset_index(drop=True)"
      ]
    },
    {
      "cell_type": "code",
      "source": [
        "print(f'Shape of the whole data is: {df.shape[0]} rows and {df.shape[1]} columns')"
      ],
      "metadata": {
        "id": "CqjlJTQ7c-Wk",
        "colab": {
          "base_uri": "https://localhost:8080/"
        },
        "outputId": "266c7ebb-54b6-4faa-bf18-611821da85e2"
      },
      "execution_count": null,
      "outputs": [
        {
          "output_type": "stream",
          "name": "stdout",
          "text": [
            "Shape of the whole data is: 44898 rows and 5 columns\n"
          ]
        }
      ]
    },
    {
      "cell_type": "code",
      "source": [
        "df.head()"
      ],
      "metadata": {
        "id": "O5iMmRmbdPML",
        "colab": {
          "base_uri": "https://localhost:8080/",
          "height": 1000
        },
        "outputId": "e763ce0f-847b-4776-f450-a61fa181685f"
      },
      "execution_count": null,
      "outputs": [
        {
          "output_type": "execute_result",
          "data": {
            "text/plain": [
              "                                                                                               title  \\\n",
              "0                                  WATCH: These Videos Will Make Trump The Most Toxic Candidate EVER   \n",
              "1                 Here’s What Happens When Children Win A Science Contest In Trump’s America (VIDEO)   \n",
              "2   TX Teacher Infuriates Mother With Note Implying Her Daughter May Die In Next Orlando-Like Attack   \n",
              "3                            Japan weighs plans to deal with North Korean evacuees in case of crisis   \n",
              "4                    \"Make Republicans Whole Again!\" A divided party struggles to rally behind Trump   \n",
              "\n",
              "                                                                                                                                                                                                                                                                                                                                                                                                                                                                                                                                                                                                                                                                                                                                                                                                                                                                                                                                                                                                                                                                                                                                                                                                                                                                                                                                                                                                                                                                                                                                                                                                                                                                                                                                                                                                                                                                                                                                                                                                                                                                                                                                                                                                                                                                                                                                                                                                                                                                                                                                                                                                                                                                                                                                                                                                                                                                                                                                                                                                                                                                                                                                                                                                                                                                                                                                                                                                                                                                                                                                                                                                                                                                                                                                                                                                                                                                                                                                                                                                                                                                                                                                                                                                                                                                                                                                                                                                                                                                                                                                                                                                                                                                                                                                                                                                                                                                                                                                                                                                                                                                                                                                                                                                                                                                                                                                                                                                                                                                                                                                                                                                                                                                                                                                                                                                                                                                                                                                                                                                                                                                                                                                                                                                                                                                                                                                                                                                                                                                                                                                                                                                                                                                                                                                                                                                                                text  \\\n",
              "0                                                                                                                                                                                                                                                                                                                                                                                                                                                                                                                                                                                                                                                                                                                                                                                                                                                                                                                                                                                                                                                                                                                                                                                                                                                                                                                                                                                                                                                                                                                                                                                                                                                                                                                                                                                                                                                                                                                                                                                                                                                                                                                                                                                                                                                                                                                                                                                                                                                                                                                                                                                                                                                                                                                                                                                                                                                                                                                                                                                                                                                                                                                                                                                                                                                                                                                                                                                                                                                                                                                                                                                                                                                                                                                                                                                                                                                                                                                                                                                                                                                                                                                                                                                                                                                                                                                                                                                                                                                     As John Kasich became the last rival to pull out of his campaign, ceding the Republican presidential nomination to Donald Trump, Hillary Clinton welcomed her opponent to the adult table and released a pair of web videos designed to define the candidate and make it so no sane voter could pull the lever for him this fall.With the release of the new material, Clinton began to answer one of the biggest questions of 2016: How hard and how strong will Democrats go after Trump, and what will the difference be between those ads and ads released by the so-called #NeverTrump groups on the right?Unlike many of the conservative ads, who claimed Trump was a fake member of their movement, the Clinton videos just attack Trump for his unpopular conservative ideas while also pointing out his historic unpopularity.In addition to a biting video highlighting conservatives attacking Trump, the web videos showed that Clinton is going nuclear, making Trump s right wing positions toxic in the general election.The first video takes Trump at his word, and shows a montage of the reality TV star making promises on the campaign trail. These include unpopular ideas like getting rid of gun free zones at schools, defunding Planned Parenthood, building his silly wall at the U.S.   Mexico border, banning Muslim travel, and pushing waterboarding.\"Everything I say, I'm going to do, folks.\"  TrumpHere's what the presumptive @GOP nominee would do as president.https://t.co/SG6qjpzJ8E  Hillary Clinton (@HillaryClinton) May 4, 2016The second video points out just what nominating Trump means for what the Republican Party now stands for. It explains that the party of Lincoln has now, as its leader, chosen a man who mocks the disabled, attacks immigrants, and refuses to condemn a former KKK grand wizard s endorsement.The Republican Party is now the party of Trump. Here's what it stands for.https://t.co/kCWJ9m2zNE  Hillary Clinton (@HillaryClinton) May 5, 2016The path to victory for Democrats in the fall is going to require that they go after Trump with a hard edge, and avoid the nuance and caution that has too often made the party come up short in presidential campaigns. With this pair of videos, the Clinton campaign seems to be yelling out that they came to play.Featured image via Twitter   \n",
              "1                                                                                                                                                                                                                                                                                                                                                                                                                                                                                                                                                                                                                                                                                                                                                                                                                                                                                                                                                                                                                                                                                                                                                                                                                                                                                                                                                                                                                                                                                                                                                                                                                                                                                                                                                                                                                                                                                                                                                                                                                                                                                                                                                                                                                                                                                                                                                                                                                                                                                                                                                                                                                                                                                                                                                                                                                                                                                                                                                                                                                                                                                                                                                                                                                                                                                                                                                                                                                                                                                                                                                                                                                                                                                                                                                                                                                                                                                                                                                                                                                                              In Indiana, schools staged a robotics competition for fourth graders. The winning team was comprised of two African-American children and three Latino children, ranging in age from 9-10. While this fact should (and does) demonstrate that science doesn t know skin color, it also brought out the ugliness that s become pervasive in Trump s America.The winning team was from Pleasant Run Elementary in Indianapolis. As they were leaving the competition, though, things got really ugly. Some children screamed  Go back to Mexico,  to the team. Then, parents got involved and it got even worse.This verbal attack had spilled over from the gymnasium. While the children were competing, one or two parents disparaged the Pleasant Run kids with racist comments   and loud enough for the Pleasant Run families to hear. They were pointing at us and saying that  Oh my God, they are champions of the city all because they are Mexican. They are Mexican, and they are ruining our country,    Diocelina Herrera, the mother of PantherBot Angel Herrera-Sanchez, heard a woman say.Source: USA TodaySchool officials, naturally, apologized and said that that sort of behavior isn t tolerated, but unfortunately, this is Trump s America and enabling that sort of behavior is what the non-political correctness crowd is all about.Trump s America is why Rep. Steve King (Iowa), who literally preached eugenics on Twitter, had almost zero consequences from Republicans.Wilders understands that culture and demographics are our destiny. We can t restore our civilization with somebody else s babies. https://t.co/4nxLipafWO  Steve King (@SteveKingIA) March 12, 2017Trump s America is why hate crimes have been on the rise since the election.No, Trump is not the cause of racism, but he is an enabler. Racism has suddenly become socially acceptable, at least among certain people. Trump has filled his cabinet and administration with white supremacists. Steve Bannon is a known white supremacist and he is the de facto Chief of Staff (sorry Reince Priebus, but you know this to be true). Their policies even want to make it easier (and slightly more legal) to be a radical right-wing extremist.The winning kids, fortunately, were much more mature than some of the adults. One gave the most heart breaking comment of all: They yelled out rude comments, and I think that they can talk all they want because at the end we re still going to Worlds,  said team leader Elijah Goodwin, 10.  It s not going to affect us at all. I m not surprised because I m used to this kind of behavior.He shouldn t have to be used to it. No one should ever be used to this.Featured image via Pleasant Run Elementary website   \n",
              "2                                                                                                                                                                                                                                                                                                                                                                                                                                                                                                                                                                                                                                                                                                                                                                                                                                                                                                                                                                                                                                                                                                                                                                                                                                                                                                                                                                                                                                                                                                                                                                                                                                                                                                                                                                                                                                                                                                                                                                                                                                                                                                                                                                                                                                                                                                                                                                                                                                                                                                                                                                                                                                                                                                                                                                                                                                                                                                                                                                                                                                                                                                                                                                                                                                                                                                                                                                                                                                                                                                                                                                                                                                                                                                                                                                                                                                                                                                                                                                                                                                                                         A Texas mother recently woke up to possibly one of the most infuriating things a parent can see   a nasty, bigoted message on Facebook that was warning her about her lesbian daughter. Cassie Watson s daughter, Ali Chaney, was sent home from school last month for wearing a t-shirt that read,  Some people are gay. Get over it,  in rainbow letters. That s how this teacher knows Ali is gay.The message in question said:The teacher, who appears to be a woman named Janice Williams, tried to weasel out of taking responsibility for this when she was asked about the offensive message: My FB account was hacked yesterday and I was not responsible for the message sent to the lady causing her to believe that her child would be harmed. It took several attempts to delete the account after notifying FB that my account had been hacked. I have lived my life protecting the rights of others and being an advocate for ALL children. I m saddened that a hacker can cause such negativity and division among so many people. Please give my sincerest apology to this woman and her child. Thank you.' Oh, bull cookies. Isn t that always the fallback excuse when you write something horrible like that to someone?  My account was hacked.  However, like any sane person would when confronted with something that sounds like so many hollow excuses, Watson called it  garbage. The school district says the t-shirt was  disruptive,  because several students had complained. Like telling LGBTQ students they have to kowtow to the whims of homophobes or be singled out and punished isn t disruptive. Nevertheless, they stood by that decision, issuing a statement that said: Our purpose at CCISD is to educate children, first and foremost. According to CCISD s dress code in the student handbook and code of conduct, clothing that is disruptive to the learning environment based on reactions by other students is prohibited. The student was offered a school shirt to wear and declined. There s more, though. KCEN-TV reached out to the district and discovered that this teacher resigned way back on June 3, well before this message was sent, and for a reason completely unrelated to this situation. One might think that Williams felt free to spread her homophobia because she wouldn t face any consequences for doing so.This is not something that anybody should ever send out, because it just perpetuates the cultural problem that played a huge role in the Orlando massacre. Anybody who would send a message like that has their hands covered in the blood of the LGBTQ people who have died in hate crimes.Featured image via screen capture from KCEN-TV news report and Facebook   \n",
              "3                                                                                                                                                                                                                                                                                                                                                                                                                                                                                                                                                                                                                                                                                                                                                                                                                                                                                                                                                                                                                                                                                                                                                                                                                                                                                                                                                                                                                                                                                                                                                                                                                                                                                                                                                                                                                                                                                                                                                                                                                                                                                                                                                                                                                                                                                                                                                                                                                                                                                                                                                                                                                                                                                                                                                                                                                                                                                                                                                                                                                                                                                                                                                                                                                                                                                                                                                                                                                                                                                                                                                                                                                                                                                                                                                                                                                                                                                                                                                                                                                                                                                                                                                                                                                                                                                                                                                                    TOKYO (Reuters) - Japan is studying plans to cope with an influx of perhaps tens of thousands of North Korean evacuees if a military or other crisis breaks out on the peninsula, including ways to weed out spies and terrorists, a domestic newspaper said. The Japan Coast Guard would escort boats fleeing North Korea to designated ports, where police would screen them by checking their identity and possible criminal records and expel those deemed a threat, the Yomiuri newspaper said on Thursday. It did not say where those people would be sent, however. Evacuees granted temporary entrance would be transferred to emergency detention centers, probably in southern Japan, after completing quarantine and other procedures. Officials would then decide whether they were eligible to remain in Japan, the Yomiuri said.  Regional tension over Pyongyang s missile and nuclear arms programs remain high. A senior Chinese diplomat was to visit the North from Friday as a special envoy of Chinese President Xi Jinping, just a week after U.S. President Donald Trump met Xi in Beijing and pressed for greater action to rein in Pyongyang. Junji Ito, an official of the justice ministry s immigration bureau, said the Japanese government was looking at steps to deal with a possible influx of people from North Korea but declined to comment on details. Outspoken Deputy Prime Minister Taro Aso grabbed headlines in September when he touched on the possibility of shooting armed refugees from North Korea.  Will police respond and arrest them on charges of illegal immigration?  media quoted him as saying in a speech.  If the Self-Defense Forces (military) are dispatched, will they shoot them down?   On Thursday, the Japan Coast Guard said it had rescued three North Korean men on a capsized boat a day earlier and was searching for 12 missing crew. The men said they were fishermen, not defectors, and Japan was arranging to send them home, it added. Japan has strict requirements for recognizing asylum seekers and accepted only three refugees in the first half of 2017 despite a record 8,561 fresh applications. In January, Human Rights Watch described Japan s record on asylum seekers as  abysmal . The country took in more than 11,000 Indochinese  boat people  refugees over three decades to 2005 in the aftermath of the Vietnam War, a little-remembered open-door policy.     \n",
              "4  CLEVELAND (Reuters) - Ted Cruz was recounting to an audience how he had outlasted most of his 16 rivals for the Republican presidential nomination when a plane carrying the man who had won it all, Donald Trump, flew overhead, interrupting him mid-speech. “All right, that was pretty well-orchestrated,” said Cruz, a Republican U.S. senator from Texas who waged a bitter campaign against Trump. Hours later Cruz would take his revenge, refusing to endorse Trump and urging Republicans to vote their conscience during a prime-time speech on the floor of the Republican National Convention in Cleveland. He left the podium to a chorus of boos, and his wife was escorted off the floor as the convention erupted in rancor. Susan Hutchison, chair of the Washington state delegation, said she confronted Cruz after his speech and called him a “traitor to the party.” So much for party unity. Over three days in Cleveland this week, Republican leaders sought to sell a story of unity. They repeatedly said the party was getting ever closer to rallying behind Trump, who is running on the slogan “Make America Great Again!” and whose candidacy has divided many and exposed deep discontent among  Republicans with their leaders.  But in a few minutes on Wednesday night that show of unity was blown apart in spectacular fashion. Cruz’s non-committal speech infuriated Trump supporters among the thousands of delegates cramming the floor of the Quicken Loans Arena in Cleveland. But their angry jeers triggered recriminations from other delegates.   “They talk about unity and then they act like that. That is not going to get us to unify,” said Manette Merrill, a Cruz delegate from Washington state.  Trump will get the opportunity to rally the party when he formally accepts its nomination on Thursday night in a speech expected to be watched by millions of Americans, including undecided and independent voters. One of Trump’s key goals going into this week’s convention was to unite the party after a roughly 18-month primary season that was marked by personal attacks on candidates, sometimes violent rallies, and deep disagreement over what it means to be a Republican. In public and in private the Trump campaign tried to win over skeptics who feel the New York businessman and celebrity TV star does not represent the party’s values. It took a harder stance against opponents, for example shutting down a desperate last-minute bid on the convention floor early in the week to stop his nomination.  “It’s like a slow crawl,” former Republican National Committee Chairman Michael Steele said of the unity drive as he made the rounds at the convention. “You’re kind of doing it. You’re kind of looking around to see if anyone else is doing it,” he told Reuters.  But almost from the start there were blatant signs of party disunity.  Ohio Governor John Kasich, who lost to Trump in the nomination fight and disagrees with Trump on a host of issues, declined to attend the convention held in his own state. Instead, he greeted his supporters at the Rock and Roll Hall of Fame close to the convention arena to the blaring tune of The Who’s “Baba O’Riley” with lyrics like, “I don’t need to fight to prove I’m right.” Trump campaign manager Paul Manafort told reporters that Kasich was “embarrassing his state” by refusing to get on the Trump train. His remarks were a reminder of the sort of insults that many Republicans had hoped would disappear after a brutal primary season that was characterized by Trump’s often personal attacks on his opponents. The pleas for unity were frequent in Cleveland, led by House of Representatives Speaker Paul Ryan, the top elected Republican, who has been slow in warming to Trump. “What do you say that we unify this party at this crucial moment when unity is everything?” Ryan asked thousands of convention attendees on Tuesday night. It was the biggest applause line of his speech - delegates cheered, clapped and waved signs. But U.S. Senator Mike Lee of Utah, one of the “never Trump” holdouts, is still not convinced.  “Federalism and separation of powers – if he focuses on that, he brings along a lot of conservatives like me who haven’t been sold yet,” Lee told Reuters. “He needs to make that a distinct part of his message.” Trump and his surrogates have offered scant policy details so far at the convention, nor have they been able to put to rest questions about whether they are capable of mounting a sophisticated presidential campaign to take on his Democratic rival Hillary Clinton. The convention has been overshadowed, for example, by controversy surrounding his wife Melania’s convention speech - which included lines uttered by first lady Michelle Obama at the Democratic convention in 2008 - and the campaign’s initial reluctance to admit the plagiarism. Some Republicans thought it was an unnecessary distraction at a time when the party should be focused on selling itself and its new leader to Americans.  Others said that if Trump was really serious about uniting the party he would reach out to his vanquished foes on the campaign trail, including Cruz and Kasich.   Ken Cope, a Texas delegate who had backed Cruz for president but will vote for Trump, said the New York businessman needs to “swallow his pride” and stress the contributions his 16 defeated rivals made to the primary process instead of belittling them. “He’s a prideful man and he’s proud of what he is but we’re in a general election campaign and it’s going to take all of us pulling on the rope if we’re going to pull the ship to the final line,” Cope said. Still others said Trump needed to be more disciplined. Trump supporter John Whitmer, a delegate from Wichita, Kansas, said Trump made a mistake by going on Fox News on Monday night to rail against Kasich as speakers were lauding his candidacy at the televised convention. “You just stepped on your best act,” Whitmer said. “I get that you want to talk about Kasich, but everybody needed to be watching what was going on there.” After Wednesday night, the best hope for the Republican Party to come together may rest on Clinton, who was frequently vilified at the Cleveland convention this week. She will be formally nominated as the Democratic presidential nominee at her party’s convention in Philadelphia next week. When asked if the party was unified, former Speaker of the House of Representatives and close Trump adviser, Newt Gingrich, replied: “No, but we will be by the end of Philadelphia.” “Trump will get us to 90 percent unity. She’ll get us the rest of the way.”     \n",
              "\n",
              "        subject                date  output  \n",
              "0          News         May 5, 2016       1  \n",
              "1          News      March 17, 2017       1  \n",
              "2          News       June 17, 2016       1  \n",
              "3     worldnews  November 16, 2017        0  \n",
              "4  politicsNews      July 21, 2016        0  "
            ],
            "text/html": [
              "\n",
              "  <div id=\"df-860bea7e-9c22-411c-a2a1-32a1af690202\">\n",
              "    <div class=\"colab-df-container\">\n",
              "      <div>\n",
              "<style scoped>\n",
              "    .dataframe tbody tr th:only-of-type {\n",
              "        vertical-align: middle;\n",
              "    }\n",
              "\n",
              "    .dataframe tbody tr th {\n",
              "        vertical-align: top;\n",
              "    }\n",
              "\n",
              "    .dataframe thead th {\n",
              "        text-align: right;\n",
              "    }\n",
              "</style>\n",
              "<table border=\"1\" class=\"dataframe\">\n",
              "  <thead>\n",
              "    <tr style=\"text-align: right;\">\n",
              "      <th></th>\n",
              "      <th>title</th>\n",
              "      <th>text</th>\n",
              "      <th>subject</th>\n",
              "      <th>date</th>\n",
              "      <th>output</th>\n",
              "    </tr>\n",
              "  </thead>\n",
              "  <tbody>\n",
              "    <tr>\n",
              "      <th>0</th>\n",
              "      <td>WATCH: These Videos Will Make Trump The Most Toxic Candidate EVER</td>\n",
              "      <td>As John Kasich became the last rival to pull out of his campaign, ceding the Republican presidential nomination to Donald Trump, Hillary Clinton welcomed her opponent to the adult table and released a pair of web videos designed to define the candidate and make it so no sane voter could pull the lever for him this fall.With the release of the new material, Clinton began to answer one of the biggest questions of 2016: How hard and how strong will Democrats go after Trump, and what will the difference be between those ads and ads released by the so-called #NeverTrump groups on the right?Unlike many of the conservative ads, who claimed Trump was a fake member of their movement, the Clinton videos just attack Trump for his unpopular conservative ideas while also pointing out his historic unpopularity.In addition to a biting video highlighting conservatives attacking Trump, the web videos showed that Clinton is going nuclear, making Trump s right wing positions toxic in the general election.The first video takes Trump at his word, and shows a montage of the reality TV star making promises on the campaign trail. These include unpopular ideas like getting rid of gun free zones at schools, defunding Planned Parenthood, building his silly wall at the U.S.   Mexico border, banning Muslim travel, and pushing waterboarding.\"Everything I say, I'm going to do, folks.\"  TrumpHere's what the presumptive @GOP nominee would do as president.https://t.co/SG6qjpzJ8E  Hillary Clinton (@HillaryClinton) May 4, 2016The second video points out just what nominating Trump means for what the Republican Party now stands for. It explains that the party of Lincoln has now, as its leader, chosen a man who mocks the disabled, attacks immigrants, and refuses to condemn a former KKK grand wizard s endorsement.The Republican Party is now the party of Trump. Here's what it stands for.https://t.co/kCWJ9m2zNE  Hillary Clinton (@HillaryClinton) May 5, 2016The path to victory for Democrats in the fall is going to require that they go after Trump with a hard edge, and avoid the nuance and caution that has too often made the party come up short in presidential campaigns. With this pair of videos, the Clinton campaign seems to be yelling out that they came to play.Featured image via Twitter</td>\n",
              "      <td>News</td>\n",
              "      <td>May 5, 2016</td>\n",
              "      <td>1</td>\n",
              "    </tr>\n",
              "    <tr>\n",
              "      <th>1</th>\n",
              "      <td>Here’s What Happens When Children Win A Science Contest In Trump’s America (VIDEO)</td>\n",
              "      <td>In Indiana, schools staged a robotics competition for fourth graders. The winning team was comprised of two African-American children and three Latino children, ranging in age from 9-10. While this fact should (and does) demonstrate that science doesn t know skin color, it also brought out the ugliness that s become pervasive in Trump s America.The winning team was from Pleasant Run Elementary in Indianapolis. As they were leaving the competition, though, things got really ugly. Some children screamed  Go back to Mexico,  to the team. Then, parents got involved and it got even worse.This verbal attack had spilled over from the gymnasium. While the children were competing, one or two parents disparaged the Pleasant Run kids with racist comments   and loud enough for the Pleasant Run families to hear. They were pointing at us and saying that  Oh my God, they are champions of the city all because they are Mexican. They are Mexican, and they are ruining our country,    Diocelina Herrera, the mother of PantherBot Angel Herrera-Sanchez, heard a woman say.Source: USA TodaySchool officials, naturally, apologized and said that that sort of behavior isn t tolerated, but unfortunately, this is Trump s America and enabling that sort of behavior is what the non-political correctness crowd is all about.Trump s America is why Rep. Steve King (Iowa), who literally preached eugenics on Twitter, had almost zero consequences from Republicans.Wilders understands that culture and demographics are our destiny. We can t restore our civilization with somebody else s babies. https://t.co/4nxLipafWO  Steve King (@SteveKingIA) March 12, 2017Trump s America is why hate crimes have been on the rise since the election.No, Trump is not the cause of racism, but he is an enabler. Racism has suddenly become socially acceptable, at least among certain people. Trump has filled his cabinet and administration with white supremacists. Steve Bannon is a known white supremacist and he is the de facto Chief of Staff (sorry Reince Priebus, but you know this to be true). Their policies even want to make it easier (and slightly more legal) to be a radical right-wing extremist.The winning kids, fortunately, were much more mature than some of the adults. One gave the most heart breaking comment of all: They yelled out rude comments, and I think that they can talk all they want because at the end we re still going to Worlds,  said team leader Elijah Goodwin, 10.  It s not going to affect us at all. I m not surprised because I m used to this kind of behavior.He shouldn t have to be used to it. No one should ever be used to this.Featured image via Pleasant Run Elementary website</td>\n",
              "      <td>News</td>\n",
              "      <td>March 17, 2017</td>\n",
              "      <td>1</td>\n",
              "    </tr>\n",
              "    <tr>\n",
              "      <th>2</th>\n",
              "      <td>TX Teacher Infuriates Mother With Note Implying Her Daughter May Die In Next Orlando-Like Attack</td>\n",
              "      <td>A Texas mother recently woke up to possibly one of the most infuriating things a parent can see   a nasty, bigoted message on Facebook that was warning her about her lesbian daughter. Cassie Watson s daughter, Ali Chaney, was sent home from school last month for wearing a t-shirt that read,  Some people are gay. Get over it,  in rainbow letters. That s how this teacher knows Ali is gay.The message in question said:The teacher, who appears to be a woman named Janice Williams, tried to weasel out of taking responsibility for this when she was asked about the offensive message: My FB account was hacked yesterday and I was not responsible for the message sent to the lady causing her to believe that her child would be harmed. It took several attempts to delete the account after notifying FB that my account had been hacked. I have lived my life protecting the rights of others and being an advocate for ALL children. I m saddened that a hacker can cause such negativity and division among so many people. Please give my sincerest apology to this woman and her child. Thank you.' Oh, bull cookies. Isn t that always the fallback excuse when you write something horrible like that to someone?  My account was hacked.  However, like any sane person would when confronted with something that sounds like so many hollow excuses, Watson called it  garbage. The school district says the t-shirt was  disruptive,  because several students had complained. Like telling LGBTQ students they have to kowtow to the whims of homophobes or be singled out and punished isn t disruptive. Nevertheless, they stood by that decision, issuing a statement that said: Our purpose at CCISD is to educate children, first and foremost. According to CCISD s dress code in the student handbook and code of conduct, clothing that is disruptive to the learning environment based on reactions by other students is prohibited. The student was offered a school shirt to wear and declined. There s more, though. KCEN-TV reached out to the district and discovered that this teacher resigned way back on June 3, well before this message was sent, and for a reason completely unrelated to this situation. One might think that Williams felt free to spread her homophobia because she wouldn t face any consequences for doing so.This is not something that anybody should ever send out, because it just perpetuates the cultural problem that played a huge role in the Orlando massacre. Anybody who would send a message like that has their hands covered in the blood of the LGBTQ people who have died in hate crimes.Featured image via screen capture from KCEN-TV news report and Facebook</td>\n",
              "      <td>News</td>\n",
              "      <td>June 17, 2016</td>\n",
              "      <td>1</td>\n",
              "    </tr>\n",
              "    <tr>\n",
              "      <th>3</th>\n",
              "      <td>Japan weighs plans to deal with North Korean evacuees in case of crisis</td>\n",
              "      <td>TOKYO (Reuters) - Japan is studying plans to cope with an influx of perhaps tens of thousands of North Korean evacuees if a military or other crisis breaks out on the peninsula, including ways to weed out spies and terrorists, a domestic newspaper said. The Japan Coast Guard would escort boats fleeing North Korea to designated ports, where police would screen them by checking their identity and possible criminal records and expel those deemed a threat, the Yomiuri newspaper said on Thursday. It did not say where those people would be sent, however. Evacuees granted temporary entrance would be transferred to emergency detention centers, probably in southern Japan, after completing quarantine and other procedures. Officials would then decide whether they were eligible to remain in Japan, the Yomiuri said.  Regional tension over Pyongyang s missile and nuclear arms programs remain high. A senior Chinese diplomat was to visit the North from Friday as a special envoy of Chinese President Xi Jinping, just a week after U.S. President Donald Trump met Xi in Beijing and pressed for greater action to rein in Pyongyang. Junji Ito, an official of the justice ministry s immigration bureau, said the Japanese government was looking at steps to deal with a possible influx of people from North Korea but declined to comment on details. Outspoken Deputy Prime Minister Taro Aso grabbed headlines in September when he touched on the possibility of shooting armed refugees from North Korea.  Will police respond and arrest them on charges of illegal immigration?  media quoted him as saying in a speech.  If the Self-Defense Forces (military) are dispatched, will they shoot them down?   On Thursday, the Japan Coast Guard said it had rescued three North Korean men on a capsized boat a day earlier and was searching for 12 missing crew. The men said they were fishermen, not defectors, and Japan was arranging to send them home, it added. Japan has strict requirements for recognizing asylum seekers and accepted only three refugees in the first half of 2017 despite a record 8,561 fresh applications. In January, Human Rights Watch described Japan s record on asylum seekers as  abysmal . The country took in more than 11,000 Indochinese  boat people  refugees over three decades to 2005 in the aftermath of the Vietnam War, a little-remembered open-door policy.</td>\n",
              "      <td>worldnews</td>\n",
              "      <td>November 16, 2017</td>\n",
              "      <td>0</td>\n",
              "    </tr>\n",
              "    <tr>\n",
              "      <th>4</th>\n",
              "      <td>\"Make Republicans Whole Again!\" A divided party struggles to rally behind Trump</td>\n",
              "      <td>CLEVELAND (Reuters) - Ted Cruz was recounting to an audience how he had outlasted most of his 16 rivals for the Republican presidential nomination when a plane carrying the man who had won it all, Donald Trump, flew overhead, interrupting him mid-speech. “All right, that was pretty well-orchestrated,” said Cruz, a Republican U.S. senator from Texas who waged a bitter campaign against Trump. Hours later Cruz would take his revenge, refusing to endorse Trump and urging Republicans to vote their conscience during a prime-time speech on the floor of the Republican National Convention in Cleveland. He left the podium to a chorus of boos, and his wife was escorted off the floor as the convention erupted in rancor. Susan Hutchison, chair of the Washington state delegation, said she confronted Cruz after his speech and called him a “traitor to the party.” So much for party unity. Over three days in Cleveland this week, Republican leaders sought to sell a story of unity. They repeatedly said the party was getting ever closer to rallying behind Trump, who is running on the slogan “Make America Great Again!” and whose candidacy has divided many and exposed deep discontent among  Republicans with their leaders.  But in a few minutes on Wednesday night that show of unity was blown apart in spectacular fashion. Cruz’s non-committal speech infuriated Trump supporters among the thousands of delegates cramming the floor of the Quicken Loans Arena in Cleveland. But their angry jeers triggered recriminations from other delegates.   “They talk about unity and then they act like that. That is not going to get us to unify,” said Manette Merrill, a Cruz delegate from Washington state.  Trump will get the opportunity to rally the party when he formally accepts its nomination on Thursday night in a speech expected to be watched by millions of Americans, including undecided and independent voters. One of Trump’s key goals going into this week’s convention was to unite the party after a roughly 18-month primary season that was marked by personal attacks on candidates, sometimes violent rallies, and deep disagreement over what it means to be a Republican. In public and in private the Trump campaign tried to win over skeptics who feel the New York businessman and celebrity TV star does not represent the party’s values. It took a harder stance against opponents, for example shutting down a desperate last-minute bid on the convention floor early in the week to stop his nomination.  “It’s like a slow crawl,” former Republican National Committee Chairman Michael Steele said of the unity drive as he made the rounds at the convention. “You’re kind of doing it. You’re kind of looking around to see if anyone else is doing it,” he told Reuters.  But almost from the start there were blatant signs of party disunity.  Ohio Governor John Kasich, who lost to Trump in the nomination fight and disagrees with Trump on a host of issues, declined to attend the convention held in his own state. Instead, he greeted his supporters at the Rock and Roll Hall of Fame close to the convention arena to the blaring tune of The Who’s “Baba O’Riley” with lyrics like, “I don’t need to fight to prove I’m right.” Trump campaign manager Paul Manafort told reporters that Kasich was “embarrassing his state” by refusing to get on the Trump train. His remarks were a reminder of the sort of insults that many Republicans had hoped would disappear after a brutal primary season that was characterized by Trump’s often personal attacks on his opponents. The pleas for unity were frequent in Cleveland, led by House of Representatives Speaker Paul Ryan, the top elected Republican, who has been slow in warming to Trump. “What do you say that we unify this party at this crucial moment when unity is everything?” Ryan asked thousands of convention attendees on Tuesday night. It was the biggest applause line of his speech - delegates cheered, clapped and waved signs. But U.S. Senator Mike Lee of Utah, one of the “never Trump” holdouts, is still not convinced.  “Federalism and separation of powers – if he focuses on that, he brings along a lot of conservatives like me who haven’t been sold yet,” Lee told Reuters. “He needs to make that a distinct part of his message.” Trump and his surrogates have offered scant policy details so far at the convention, nor have they been able to put to rest questions about whether they are capable of mounting a sophisticated presidential campaign to take on his Democratic rival Hillary Clinton. The convention has been overshadowed, for example, by controversy surrounding his wife Melania’s convention speech - which included lines uttered by first lady Michelle Obama at the Democratic convention in 2008 - and the campaign’s initial reluctance to admit the plagiarism. Some Republicans thought it was an unnecessary distraction at a time when the party should be focused on selling itself and its new leader to Americans.  Others said that if Trump was really serious about uniting the party he would reach out to his vanquished foes on the campaign trail, including Cruz and Kasich.   Ken Cope, a Texas delegate who had backed Cruz for president but will vote for Trump, said the New York businessman needs to “swallow his pride” and stress the contributions his 16 defeated rivals made to the primary process instead of belittling them. “He’s a prideful man and he’s proud of what he is but we’re in a general election campaign and it’s going to take all of us pulling on the rope if we’re going to pull the ship to the final line,” Cope said. Still others said Trump needed to be more disciplined. Trump supporter John Whitmer, a delegate from Wichita, Kansas, said Trump made a mistake by going on Fox News on Monday night to rail against Kasich as speakers were lauding his candidacy at the televised convention. “You just stepped on your best act,” Whitmer said. “I get that you want to talk about Kasich, but everybody needed to be watching what was going on there.” After Wednesday night, the best hope for the Republican Party to come together may rest on Clinton, who was frequently vilified at the Cleveland convention this week. She will be formally nominated as the Democratic presidential nominee at her party’s convention in Philadelphia next week. When asked if the party was unified, former Speaker of the House of Representatives and close Trump adviser, Newt Gingrich, replied: “No, but we will be by the end of Philadelphia.” “Trump will get us to 90 percent unity. She’ll get us the rest of the way.”</td>\n",
              "      <td>politicsNews</td>\n",
              "      <td>July 21, 2016</td>\n",
              "      <td>0</td>\n",
              "    </tr>\n",
              "  </tbody>\n",
              "</table>\n",
              "</div>\n",
              "      <button class=\"colab-df-convert\" onclick=\"convertToInteractive('df-860bea7e-9c22-411c-a2a1-32a1af690202')\"\n",
              "              title=\"Convert this dataframe to an interactive table.\"\n",
              "              style=\"display:none;\">\n",
              "        \n",
              "  <svg xmlns=\"http://www.w3.org/2000/svg\" height=\"24px\"viewBox=\"0 0 24 24\"\n",
              "       width=\"24px\">\n",
              "    <path d=\"M0 0h24v24H0V0z\" fill=\"none\"/>\n",
              "    <path d=\"M18.56 5.44l.94 2.06.94-2.06 2.06-.94-2.06-.94-.94-2.06-.94 2.06-2.06.94zm-11 1L8.5 8.5l.94-2.06 2.06-.94-2.06-.94L8.5 2.5l-.94 2.06-2.06.94zm10 10l.94 2.06.94-2.06 2.06-.94-2.06-.94-.94-2.06-.94 2.06-2.06.94z\"/><path d=\"M17.41 7.96l-1.37-1.37c-.4-.4-.92-.59-1.43-.59-.52 0-1.04.2-1.43.59L10.3 9.45l-7.72 7.72c-.78.78-.78 2.05 0 2.83L4 21.41c.39.39.9.59 1.41.59.51 0 1.02-.2 1.41-.59l7.78-7.78 2.81-2.81c.8-.78.8-2.07 0-2.86zM5.41 20L4 18.59l7.72-7.72 1.47 1.35L5.41 20z\"/>\n",
              "  </svg>\n",
              "      </button>\n",
              "      \n",
              "  <style>\n",
              "    .colab-df-container {\n",
              "      display:flex;\n",
              "      flex-wrap:wrap;\n",
              "      gap: 12px;\n",
              "    }\n",
              "\n",
              "    .colab-df-convert {\n",
              "      background-color: #E8F0FE;\n",
              "      border: none;\n",
              "      border-radius: 50%;\n",
              "      cursor: pointer;\n",
              "      display: none;\n",
              "      fill: #1967D2;\n",
              "      height: 32px;\n",
              "      padding: 0 0 0 0;\n",
              "      width: 32px;\n",
              "    }\n",
              "\n",
              "    .colab-df-convert:hover {\n",
              "      background-color: #E2EBFA;\n",
              "      box-shadow: 0px 1px 2px rgba(60, 64, 67, 0.3), 0px 1px 3px 1px rgba(60, 64, 67, 0.15);\n",
              "      fill: #174EA6;\n",
              "    }\n",
              "\n",
              "    [theme=dark] .colab-df-convert {\n",
              "      background-color: #3B4455;\n",
              "      fill: #D2E3FC;\n",
              "    }\n",
              "\n",
              "    [theme=dark] .colab-df-convert:hover {\n",
              "      background-color: #434B5C;\n",
              "      box-shadow: 0px 1px 3px 1px rgba(0, 0, 0, 0.15);\n",
              "      filter: drop-shadow(0px 1px 2px rgba(0, 0, 0, 0.3));\n",
              "      fill: #FFFFFF;\n",
              "    }\n",
              "  </style>\n",
              "\n",
              "      <script>\n",
              "        const buttonEl =\n",
              "          document.querySelector('#df-860bea7e-9c22-411c-a2a1-32a1af690202 button.colab-df-convert');\n",
              "        buttonEl.style.display =\n",
              "          google.colab.kernel.accessAllowed ? 'block' : 'none';\n",
              "\n",
              "        async function convertToInteractive(key) {\n",
              "          const element = document.querySelector('#df-860bea7e-9c22-411c-a2a1-32a1af690202');\n",
              "          const dataTable =\n",
              "            await google.colab.kernel.invokeFunction('convertToInteractive',\n",
              "                                                     [key], {});\n",
              "          if (!dataTable) return;\n",
              "\n",
              "          const docLinkHtml = 'Like what you see? Visit the ' +\n",
              "            '<a target=\"_blank\" href=https://colab.research.google.com/notebooks/data_table.ipynb>data table notebook</a>'\n",
              "            + ' to learn more about interactive tables.';\n",
              "          element.innerHTML = '';\n",
              "          dataTable['output_type'] = 'display_data';\n",
              "          await google.colab.output.renderOutput(dataTable, element);\n",
              "          const docLink = document.createElement('div');\n",
              "          docLink.innerHTML = docLinkHtml;\n",
              "          element.appendChild(docLink);\n",
              "        }\n",
              "      </script>\n",
              "    </div>\n",
              "  </div>\n",
              "  "
            ]
          },
          "metadata": {},
          "execution_count": 11
        }
      ]
    },
    {
      "cell_type": "markdown",
      "source": [
        "# **Pre Processing Data**"
      ],
      "metadata": {
        "id": "aP9TfMgldc9-"
      }
    },
    {
      "cell_type": "markdown",
      "source": [
        "## Lower Casing"
      ],
      "metadata": {
        "id": "RF-pduMVdiFD"
      }
    },
    {
      "cell_type": "code",
      "source": [
        "df.title = df.title.str.lower()\n",
        "df.text = df.text.str.lower()\n",
        "df.subject = df.subject.str.lower()"
      ],
      "metadata": {
        "id": "3g_9xVUcdcjK"
      },
      "execution_count": null,
      "outputs": []
    },
    {
      "cell_type": "markdown",
      "source": [
        "## Remove"
      ],
      "metadata": {
        "id": "mjGpMad2eUvw"
      }
    },
    {
      "cell_type": "markdown",
      "source": [
        "### Rare words"
      ],
      "metadata": {
        "id": "-vnCyJ45K16a"
      }
    },
    {
      "cell_type": "code",
      "source": [
        "def rare_words(text):\n",
        "    # tokenization\n",
        "    tokens = word_tokenize(text)\n",
        "    counter = Counter()\n",
        "    for word in tokens:\n",
        "        counter[word]= +1\n",
        "\n",
        "    RareWords = []\n",
        "    number_rare_words = 1\n",
        "    # take top 1 rare words\n",
        "    frequentWords = counter.most_common()\n",
        "    for (word, word_count) in frequentWords[:-number_rare_words-1:-1]:\n",
        "        RareWords.append(word)\n",
        "\n",
        "    return RareWords\n",
        "\n",
        "def remove_rw(text, RareWords):\n",
        "    tokens = word_tokenize(text)\n",
        "    without_rw = []\n",
        "    for word in tokens:\n",
        "        if word not in RareWords:\n",
        "            without_rw.append(word)\n",
        "\n",
        "    without_rw = ' '.join(without_rw)\n",
        "    return without_rw"
      ],
      "metadata": {
        "id": "liW6s-HIK3HL"
      },
      "execution_count": null,
      "outputs": []
    },
    {
      "cell_type": "markdown",
      "source": [
        "### Other"
      ],
      "metadata": {
        "id": "uPYWu7I1K3f_"
      }
    },
    {
      "cell_type": "code",
      "source": [
        "def remove(text):\n",
        "  # remove url's\n",
        "  text = re.sub(r'https?://\\S+|www\\.\\S+', '', text)\n",
        "\n",
        "  # remove email\n",
        "  text = re.sub(r'\\S+@\\S+', '', text)\n",
        "\n",
        "  # remove Hashtags and Mentions\n",
        "  text = re.sub(r'(@\\S+|#\\S+)', '', text)\n",
        "\n",
        "  # remove date\n",
        "  ## 1. Remove date formats like: dd/mm/yy(yy), dd-mm-yy(yy), dd(st|nd|rd).mm/yy(yy)\n",
        "  text = re.sub(r'\\d{1,2}(st|nd|rd|th)?[-./]\\d{1,2}[-./]\\d{2,4}', '', text)\n",
        "  ## 2. Remove date formats like: 20 apr 21, April 15th, 11th of April, 2021\n",
        "  text = re.sub(r'(\\d{1,2})?(st|nd|rd|th)?[-./,]?\\s?(of)?\\s?([J|j]an(uary)?|[F|f]eb(ruary)?|[Mm]ar(ch)?|[Aa]pr(il)?|[Mm]ay|[Jj]un(e)?|[Jj]ul(y)?|[Aa]ug(ust)?|[Ss]ep(tember)?|[Oo]ct(ober)?|[Nn]ov(ember)?|[Dd]ec(ember)?)\\s?(\\d{1,2})?(st|nd|rd|th)?\\s?[-./,]?\\s?(\\d{2,4})?', r'', text)\n",
        "\n",
        "  # remove html tags\n",
        "  text = BeautifulSoup(text).get_text()\n",
        "\n",
        "  # remove emoji\n",
        "  emoji_pattern = re.compile(\"[\"\n",
        "                              u\"\\U0001F600-\\U0001F64F\"  # emoticons\n",
        "                              u\"\\U0001F300-\\U0001F5FF\"  # symbols & pictographs\n",
        "                              u\"\\U0001F680-\\U0001F6FF\"  # transport & map symbols\n",
        "                              u\"\\U0001F1E0-\\U0001F1FF\"  # flags (iOS)\n",
        "                              u\"\\U00002500-\\U00002BEF\"  # chinese char\n",
        "                              u\"\\U00002702-\\U000027B0\"\n",
        "                              u\"\\U00002702-\\U000027B0\"\n",
        "                              u\"\\U000024C2-\\U0001F251\"\n",
        "                              u\"\\U0001f926-\\U0001f937\"\n",
        "                              u\"\\U00010000-\\U0010ffff\"\n",
        "                              u\"\\u2640-\\u2642\"\n",
        "                              u\"\\u2600-\\u2B55\"\n",
        "                              u\"\\u200d\"\n",
        "                              u\"\\u23cf\"\n",
        "                              u\"\\u23e9\"\n",
        "                              u\"\\u231a\"\n",
        "                              u\"\\ufe0f\"  # dingbats\n",
        "                              u\"\\u3030\"\n",
        "                              \"]+\", flags=re.UNICODE)\n",
        "  text = emoji_pattern.sub(r'', text)\n",
        "\n",
        "  # remove puctuations\n",
        "  PUNCTUATIONS = string.punctuation\n",
        "  text = text.translate(str.maketrans('', '', PUNCTUATIONS))\n",
        "\n",
        "  # remove stopword\n",
        "  STOPWORDS = set(stopwords.words('english'))\n",
        "  text = ' '.join([word for word in text.split() if word not in STOPWORDS])\n",
        "\n",
        "  # remove number\n",
        "  text = re.sub(r'\\d+', '',text)\n",
        "\n",
        "  # remove whitespace\n",
        "  text = \" \".join(text.split())\n",
        "\n",
        "  # remove rare word\n",
        "  text = remove_rw(text, rare_words(text))\n",
        "\n",
        "  return text\n"
      ],
      "metadata": {
        "id": "VEkZ6y8aNgKY"
      },
      "execution_count": null,
      "outputs": []
    },
    {
      "cell_type": "markdown",
      "source": [
        "### Remove all of them"
      ],
      "metadata": {
        "id": "WyqjPHYqWr0F"
      }
    },
    {
      "cell_type": "code",
      "source": [
        "# run function remove\n",
        "df.text = df.text.apply(lambda x: remove(x))"
      ],
      "metadata": {
        "id": "SIudQF8sWYSx"
      },
      "execution_count": null,
      "outputs": []
    },
    {
      "cell_type": "code",
      "source": [
        "df.head()"
      ],
      "metadata": {
        "colab": {
          "base_uri": "https://localhost:8080/",
          "height": 1000
        },
        "id": "DWBTKIO-cvsR",
        "outputId": "5a302177-7da6-482e-d7fa-d6f2acb7b04d"
      },
      "execution_count": null,
      "outputs": [
        {
          "output_type": "execute_result",
          "data": {
            "text/plain": [
              "                                                                                               title  \\\n",
              "0                                  watch: these videos will make trump the most toxic candidate ever   \n",
              "1                 here’s what happens when children win a science contest in trump’s america (video)   \n",
              "2   tx teacher infuriates mother with note implying her daughter may die in next orlando-like attack   \n",
              "3                            japan weighs plans to deal with north korean evacuees in case of crisis   \n",
              "4                    \"make republicans whole again!\" a divided party struggles to rally behind trump   \n",
              "\n",
              "                                                                                                                                                                                                                                                                                                                                                                                                                                                                                                                                                                                                                                                                                                                                                                                                                                                                                                                                                                                                                                                                                                                                                                                                                                                                                                                                                                                                                                                                                                                                                                                                                                                                                                                                                                                                                                                                                                                                                                                                                                                                                                                                                                                                                                                                                                                                                                                                                                                                                                                                                                                                                                                                                                                                                                                                                                                                                                                                                                                                                                                                                                                                                                                                                                                                                                                                                                                                                                                                                                                                                                                                                                                                                                                                                                                                                                                                                                                                                                                                                                                                                                                                                                                                                                                                                                                                                                                                                                                                                                                                                                                                                                                                                                                                                                                                                                                                                                            text  \\\n",
              "0                                                                                                                                                                                                                                                                                                                                                                                                                                                                                                                                                                                                                                                                                                                                                                                                                                                                                                                                                                                                                                                                                                                                                                                                                                                                                                                                                                                                                                                                                                                                                                                                                                                                                                                                                                                                                                                                                                                                                                                                                                                                                                                                                                                                                                                                                                                                                                                                                                                                                                                                                                                                                                                                                                                                                                                                                                                                                                                                                                                                                                                                                                                                                                                                                                                                                                                         john kasich became last rival pull campaign ceding republican presidential nomination donald trump hillary clinton welcomed opponent adult table released pair web videos designed define candidate make sane voter could pull lever fallwith release new material clinton began answer one biggest questions hard strong democrats go trump difference ads ads released socalled groups rightunlike many conservative ads claimed trump fake member movement clinton videos attack trump unpopular conservative ideas also pointing historic unpopularityin addition biting video highlighting conservatives attacking trump web videos showed clinton going nuclear making trump right wing positions toxic general electionthe first video takes trump word shows montage reality tv star making promises campaign trail include unpopular ideas like getting rid gun free zones schools defunding planned parenthood building silly wall us mexico border banning muslim travel pushing waterboardingeverything say im going folks trumpheres presumptive nominee would president hillary clintonthe second video points nominating trump means republican party stands explains party lincoln leader chosen man mocks disabled attacks immigrants refuses condemn former kkk grand wizard endorsementthe republican party party trump heres stands hillary clintonthe path victory democrats fall going require go trump hard edge avoid nuance caution often made party come short presidential campaigns pair videos clinton campaign seems yelling came playfeatured image via   \n",
              "1                                                                                                                                                                                                                                                                                                                                                                                                                                                                                                                                                                                                                                                                                                                                                                                                                                                                                                                                                                                                                                                                                                                                                                                                                                                                                                                                                                                                                                                                                                                                                                                                                                                                                                                                                                                                                                                                                                                                                                                                                                                                                                                                                                                                                                                                                                                                                                                                                                                                                                                                                                                                                                                                                                                                                                                                                                                                                                                                                                                                                                                                                                    indiana schools staged robotics competition fourth graders winning team comprised two africanamerican children three latino children ranging age fact demonstrate science know skin color also brought ugliness become pervasive trump americathe winning team pleasant run elementary indianapolis leaving competition though things got really ugly children screamed go back mexico team parents got involved got even worsethis verbal attack spilled gymnasium children competing one two parents disparaged pleasant run kids racist comments loud enough pleasant run families hear pointing us saying oh god champions city mexican mexican ruining country diocelina herrera mother pantherbot angel herrerasanchez heard woman saysource usa todayschool officials naturally apologized said sort behavior tolerated unfortunately trump america enabling sort behavior nonpolitical correctness crowd abouttrump america rep steve king iowa literally preached eugenics twitter almost zero consequences republicanswilders understands culture demographics destiny restore civilization somebody else babies steve kingtrump america hate crimes rise since electionno trump cause racism enabler racism suddenly become socially acceptable least among certain people trump filled cabinet administration white supremacists steve bannon known white supremacist de facto chief staff sorry reince priebus know true policies even want make easier slightly legal radical rightwing extremistthe winning kids fortunately much mature adults one gave heart breaking comment yelled rude comments think talk want end still going worlds said team leader elijah goodwin going affect us surprised used kind behaviorhe used one ever used thisfeatured image via pleasant run elementary   \n",
              "2                                                                                                                                                                                                                                                                                                                                                                                                                                                                                                                                                                                                                                                                                                                                                                                                                                                                                                                                                                                                                                                                                                                                                                                                                                                                                                                                                                                                                                                                                                                                                                                                                                                                                                                                                                                                                                                                                                                                                                                                                                                                                                                                                                                                                                                                                                                                                                                                                                                                                                                                                                                                                                                                                                                                                                                                                                                                                                                                                                                                                                                                                         texas mother recently woke possibly one infuriating things parent see nasty bigoted message facebook warning lesbian dhter cassie watson dhter ali chaney sent home school last month wearing tshirt read people gay get rainbow letters teacher knows ali gaythe message question saidthe teacher appears woman namedice williams tried weasel taking responsibility asked offensive message fb account hacked yesterday responsible message sent lady causing believe child would harmed took several attempts delete account notifying fb account hacked lived life protecting rights others advocate children saddened hacker cause negativity division among many people please give sincerest apology woman child thank oh bull cookies always fallback excuse write something horrible like someone account hacked however like sane person would confronted something sounds like many hollow excuses watson called garbage school district says tshirt disruptive several students complained like telling lgbtq students kowtow whims homophobes singled punished disruptive nevertheless stood thatision issuing statement said purpose ccisd educate children first foremost according ccisd dress code student handbook code conduct clothing disruptive learning environment based reactions students prohibited student offered school shirt wear alined though kcentv reached district discovered teacher resigned way back onwell message sent reason completely unrelated situation one might think williams felt free spread homophobia face consequences sothis something anybody ever send perpetuates cultural problem played huge role orlando massacre anybody would send message like hands covered blood lgbtq people died hate crimesfeatured image via screen capture kcentv news facebook   \n",
              "3                                                                                                                                                                                                                                                                                                                                                                                                                                                                                                                                                                                                                                                                                                                                                                                                                                                                                                                                                                                                                                                                                                                                                                                                                                                                                                                                                                                                                                                                                                                                                                                                                                                                                                                                                                                                                                                                                                                                                                                                                                                                                                                                                                                                                                                                                                                                                                                                                                                                                                                                                                                                                                                                                                                                                                                                                                                                                                                                                                                                                                                                                                                            tokyo reuters japan studying plans cope influx perhaps tens thousands north korean evacuees military crisis breaks peninsula including ways weed spies terrorists domestic newspaper said japan coast guard would escort boats fleeing north korea designated ports police would screen checking identity possible criminal records expel deemed threat yomiuri newspaper said thursday say people would sent however evacuees granted temporary entrance would transferred emergency detention centers probably southern japan completing quarantine procedures officials would thenide whether eligible remain japan yomiuri said regional tension pyongyang missile nuclear arms programs remain high senior chinese diplomat visit north friday special envoy chinese president xi jinping week us president donald trump met xi beijing pressed greater action rein pyongyangji ito official justice ministry immigration bureau said japanese government looking steps deal possible influx people north korea butlined comment details outspoken deputy prime minister taro aso grabbed headlines inwhen touched possibility shooting armed refugees north korea police respond arrest charges illegal immigration media quoted saying speech selfdefense forces military dispatched shoot thursday japan coast guard said rescued three north korean men capsized boat day earlier searching missing crew men said fishermen defectors japan arranging send home added japan strict requirements recognizing asylum seekers accepted three refugees first half despite record fresh applications inhuman rights watch described japan record asylum seekers abysmal country took indochinese boat people refugees threeades aftermath vietnam war littleremembered opendoor   \n",
              "4  cleveland reuters ted cruz recounting audience outlasted rivals republican presidential nomination plane carrying man donald trump flew overhead interrupting midspeech “ all right pretty wellorchestrated ” said cruz republican us senator texas waged bitter campaign trump hours later cruz would take revenge refusing endorse trump urging republicans vote conscience primetime speech floor republican national convention cleveland left podium chorus boos wife escorted floor convention erupted rancor susan hutchison chair washington state delegation said confronted cruz speech called “ traitor party ” much party unity three days cleveland week republican leaders sought sell story unity repeatedly said party getting ever closer rallying behind trump running slogan “ make america great again ” whose candidacy divided many exposed deep discontent among republicans leaders minutes wednesday night show unity blown apart spectacular fashion cruz ’ s noncommittal speech infuriated trump supporters among thousands delegates cramming floor quicken loans arena cleveland angry jeers triggered recriminations delegates “ they talk unity act like going get us unify ” said manette merrill cruz delegate washington state trump get opportunity rally party formally accepts nomination thursday night speech expected watched millions americans including unided independent voters one trump ’ s key goals going week ’ s convention unite party roughly month priy season wasked personal attacks candidates sometimes violent rallies deep disagreement means republican public private trump campaign tried win skeptics feel new york businessman celebrity tv star represent party ’ s values took harder stance opponents example shutting desperate lastminute bid convention floor early week stop nomination “ it ’ s like slow crawl ” former republican national committee chairman michael steele said unity drive made rounds convention “ you ’ re kind you ’ re kind looking around see anyone else it ” told reuters almost start blatant signs party disunity ohio governor john kasich lost trump nomination fight disagrees trump host issueslined attend convention held state instead greeted supporters rock roll hall fame close convention arena blaring tune who ’ s “ baba o ’ riley ” lyrics like “ i don ’ t need fight prove i ’ m right ” trump campaign manager paul manafort told reporters kasich “ embarrassing state ” refusing get trump train reks reminder sort insults many republicans hoped would disappear brutal priy season characterized trump ’ s often personal attacks opponents pleas unity frequent cleveland led house representatives speaker paul ryan top elected republican slow warming trump “ what say unify party crucial moment unity everything ” ryan asked thousands convention attendees tuesday night biggest applause line speech delegates cheered clapped waved signs us senator mike lee utah one “ never trump ” holdouts still convinced “ federalism aaration powers – focuses brings along lot conservatives like haven ’ t sold yet ” lee told reuters “ he needs make distinct part message ” trump surrogates offered scant policy details far convention able put rest questions whether capable mounting sophisticated presidential campaign take democratic rival hillary clinton convention overshadowed example controversy surrounding wife melania ’ s convention speech included lines uttered first lady michelle obama democratic convention campaign ’ s initial reluctance admit plagiarism republicans thought unnecessary distraction time party focused selling new leader americans others said trump really serious uniting party would reach vanquished foes campaign trail including cruz kasich ken cope texas delegate backed cruz president vote trump said new york businessman needs “ swallow pride ” stress contributions defeated rivals made priy process instead belittling “ he ’ s prideful man he ’ s proud we ’ re general election campaign it ’ s going take us pulling rope we ’ re going pull ship final line ” cope said still others said trump needed disciplined trump supporter john whitmer delegate wichita kansas said trump made mistake going fox news monday night rail kasich speakers lauding candidacy televised convention “ you stepped best act ” whitmer said “ i get want talk kasich everybody needed watching going there ” wednesday night best hope republican party come togetherrest clinton frequently vilified cleveland convention week formally nominated democratic presidential nominee party ’ s convention philadelphia next week asked party unified former speaker house representatives close trump adviser newt gingrich replied “ no end philadelphia ” “ trump get us percent unity she ’ ll get us rest ”   \n",
              "\n",
              "        subject                date  output  \n",
              "0          news         May 5, 2016       1  \n",
              "1          news      March 17, 2017       1  \n",
              "2          news       June 17, 2016       1  \n",
              "3     worldnews  November 16, 2017        0  \n",
              "4  politicsnews      July 21, 2016        0  "
            ],
            "text/html": [
              "\n",
              "  <div id=\"df-fd3e27ba-4099-4a2b-98a1-184a1f688905\">\n",
              "    <div class=\"colab-df-container\">\n",
              "      <div>\n",
              "<style scoped>\n",
              "    .dataframe tbody tr th:only-of-type {\n",
              "        vertical-align: middle;\n",
              "    }\n",
              "\n",
              "    .dataframe tbody tr th {\n",
              "        vertical-align: top;\n",
              "    }\n",
              "\n",
              "    .dataframe thead th {\n",
              "        text-align: right;\n",
              "    }\n",
              "</style>\n",
              "<table border=\"1\" class=\"dataframe\">\n",
              "  <thead>\n",
              "    <tr style=\"text-align: right;\">\n",
              "      <th></th>\n",
              "      <th>title</th>\n",
              "      <th>text</th>\n",
              "      <th>subject</th>\n",
              "      <th>date</th>\n",
              "      <th>output</th>\n",
              "    </tr>\n",
              "  </thead>\n",
              "  <tbody>\n",
              "    <tr>\n",
              "      <th>0</th>\n",
              "      <td>watch: these videos will make trump the most toxic candidate ever</td>\n",
              "      <td>john kasich became last rival pull campaign ceding republican presidential nomination donald trump hillary clinton welcomed opponent adult table released pair web videos designed define candidate make sane voter could pull lever fallwith release new material clinton began answer one biggest questions hard strong democrats go trump difference ads ads released socalled groups rightunlike many conservative ads claimed trump fake member movement clinton videos attack trump unpopular conservative ideas also pointing historic unpopularityin addition biting video highlighting conservatives attacking trump web videos showed clinton going nuclear making trump right wing positions toxic general electionthe first video takes trump word shows montage reality tv star making promises campaign trail include unpopular ideas like getting rid gun free zones schools defunding planned parenthood building silly wall us mexico border banning muslim travel pushing waterboardingeverything say im going folks trumpheres presumptive nominee would president hillary clintonthe second video points nominating trump means republican party stands explains party lincoln leader chosen man mocks disabled attacks immigrants refuses condemn former kkk grand wizard endorsementthe republican party party trump heres stands hillary clintonthe path victory democrats fall going require go trump hard edge avoid nuance caution often made party come short presidential campaigns pair videos clinton campaign seems yelling came playfeatured image via</td>\n",
              "      <td>news</td>\n",
              "      <td>May 5, 2016</td>\n",
              "      <td>1</td>\n",
              "    </tr>\n",
              "    <tr>\n",
              "      <th>1</th>\n",
              "      <td>here’s what happens when children win a science contest in trump’s america (video)</td>\n",
              "      <td>indiana schools staged robotics competition fourth graders winning team comprised two africanamerican children three latino children ranging age fact demonstrate science know skin color also brought ugliness become pervasive trump americathe winning team pleasant run elementary indianapolis leaving competition though things got really ugly children screamed go back mexico team parents got involved got even worsethis verbal attack spilled gymnasium children competing one two parents disparaged pleasant run kids racist comments loud enough pleasant run families hear pointing us saying oh god champions city mexican mexican ruining country diocelina herrera mother pantherbot angel herrerasanchez heard woman saysource usa todayschool officials naturally apologized said sort behavior tolerated unfortunately trump america enabling sort behavior nonpolitical correctness crowd abouttrump america rep steve king iowa literally preached eugenics twitter almost zero consequences republicanswilders understands culture demographics destiny restore civilization somebody else babies steve kingtrump america hate crimes rise since electionno trump cause racism enabler racism suddenly become socially acceptable least among certain people trump filled cabinet administration white supremacists steve bannon known white supremacist de facto chief staff sorry reince priebus know true policies even want make easier slightly legal radical rightwing extremistthe winning kids fortunately much mature adults one gave heart breaking comment yelled rude comments think talk want end still going worlds said team leader elijah goodwin going affect us surprised used kind behaviorhe used one ever used thisfeatured image via pleasant run elementary</td>\n",
              "      <td>news</td>\n",
              "      <td>March 17, 2017</td>\n",
              "      <td>1</td>\n",
              "    </tr>\n",
              "    <tr>\n",
              "      <th>2</th>\n",
              "      <td>tx teacher infuriates mother with note implying her daughter may die in next orlando-like attack</td>\n",
              "      <td>texas mother recently woke possibly one infuriating things parent see nasty bigoted message facebook warning lesbian dhter cassie watson dhter ali chaney sent home school last month wearing tshirt read people gay get rainbow letters teacher knows ali gaythe message question saidthe teacher appears woman namedice williams tried weasel taking responsibility asked offensive message fb account hacked yesterday responsible message sent lady causing believe child would harmed took several attempts delete account notifying fb account hacked lived life protecting rights others advocate children saddened hacker cause negativity division among many people please give sincerest apology woman child thank oh bull cookies always fallback excuse write something horrible like someone account hacked however like sane person would confronted something sounds like many hollow excuses watson called garbage school district says tshirt disruptive several students complained like telling lgbtq students kowtow whims homophobes singled punished disruptive nevertheless stood thatision issuing statement said purpose ccisd educate children first foremost according ccisd dress code student handbook code conduct clothing disruptive learning environment based reactions students prohibited student offered school shirt wear alined though kcentv reached district discovered teacher resigned way back onwell message sent reason completely unrelated situation one might think williams felt free spread homophobia face consequences sothis something anybody ever send perpetuates cultural problem played huge role orlando massacre anybody would send message like hands covered blood lgbtq people died hate crimesfeatured image via screen capture kcentv news facebook</td>\n",
              "      <td>news</td>\n",
              "      <td>June 17, 2016</td>\n",
              "      <td>1</td>\n",
              "    </tr>\n",
              "    <tr>\n",
              "      <th>3</th>\n",
              "      <td>japan weighs plans to deal with north korean evacuees in case of crisis</td>\n",
              "      <td>tokyo reuters japan studying plans cope influx perhaps tens thousands north korean evacuees military crisis breaks peninsula including ways weed spies terrorists domestic newspaper said japan coast guard would escort boats fleeing north korea designated ports police would screen checking identity possible criminal records expel deemed threat yomiuri newspaper said thursday say people would sent however evacuees granted temporary entrance would transferred emergency detention centers probably southern japan completing quarantine procedures officials would thenide whether eligible remain japan yomiuri said regional tension pyongyang missile nuclear arms programs remain high senior chinese diplomat visit north friday special envoy chinese president xi jinping week us president donald trump met xi beijing pressed greater action rein pyongyangji ito official justice ministry immigration bureau said japanese government looking steps deal possible influx people north korea butlined comment details outspoken deputy prime minister taro aso grabbed headlines inwhen touched possibility shooting armed refugees north korea police respond arrest charges illegal immigration media quoted saying speech selfdefense forces military dispatched shoot thursday japan coast guard said rescued three north korean men capsized boat day earlier searching missing crew men said fishermen defectors japan arranging send home added japan strict requirements recognizing asylum seekers accepted three refugees first half despite record fresh applications inhuman rights watch described japan record asylum seekers abysmal country took indochinese boat people refugees threeades aftermath vietnam war littleremembered opendoor</td>\n",
              "      <td>worldnews</td>\n",
              "      <td>November 16, 2017</td>\n",
              "      <td>0</td>\n",
              "    </tr>\n",
              "    <tr>\n",
              "      <th>4</th>\n",
              "      <td>\"make republicans whole again!\" a divided party struggles to rally behind trump</td>\n",
              "      <td>cleveland reuters ted cruz recounting audience outlasted rivals republican presidential nomination plane carrying man donald trump flew overhead interrupting midspeech “ all right pretty wellorchestrated ” said cruz republican us senator texas waged bitter campaign trump hours later cruz would take revenge refusing endorse trump urging republicans vote conscience primetime speech floor republican national convention cleveland left podium chorus boos wife escorted floor convention erupted rancor susan hutchison chair washington state delegation said confronted cruz speech called “ traitor party ” much party unity three days cleveland week republican leaders sought sell story unity repeatedly said party getting ever closer rallying behind trump running slogan “ make america great again ” whose candidacy divided many exposed deep discontent among republicans leaders minutes wednesday night show unity blown apart spectacular fashion cruz ’ s noncommittal speech infuriated trump supporters among thousands delegates cramming floor quicken loans arena cleveland angry jeers triggered recriminations delegates “ they talk unity act like going get us unify ” said manette merrill cruz delegate washington state trump get opportunity rally party formally accepts nomination thursday night speech expected watched millions americans including unided independent voters one trump ’ s key goals going week ’ s convention unite party roughly month priy season wasked personal attacks candidates sometimes violent rallies deep disagreement means republican public private trump campaign tried win skeptics feel new york businessman celebrity tv star represent party ’ s values took harder stance opponents example shutting desperate lastminute bid convention floor early week stop nomination “ it ’ s like slow crawl ” former republican national committee chairman michael steele said unity drive made rounds convention “ you ’ re kind you ’ re kind looking around see anyone else it ” told reuters almost start blatant signs party disunity ohio governor john kasich lost trump nomination fight disagrees trump host issueslined attend convention held state instead greeted supporters rock roll hall fame close convention arena blaring tune who ’ s “ baba o ’ riley ” lyrics like “ i don ’ t need fight prove i ’ m right ” trump campaign manager paul manafort told reporters kasich “ embarrassing state ” refusing get trump train reks reminder sort insults many republicans hoped would disappear brutal priy season characterized trump ’ s often personal attacks opponents pleas unity frequent cleveland led house representatives speaker paul ryan top elected republican slow warming trump “ what say unify party crucial moment unity everything ” ryan asked thousands convention attendees tuesday night biggest applause line speech delegates cheered clapped waved signs us senator mike lee utah one “ never trump ” holdouts still convinced “ federalism aaration powers – focuses brings along lot conservatives like haven ’ t sold yet ” lee told reuters “ he needs make distinct part message ” trump surrogates offered scant policy details far convention able put rest questions whether capable mounting sophisticated presidential campaign take democratic rival hillary clinton convention overshadowed example controversy surrounding wife melania ’ s convention speech included lines uttered first lady michelle obama democratic convention campaign ’ s initial reluctance admit plagiarism republicans thought unnecessary distraction time party focused selling new leader americans others said trump really serious uniting party would reach vanquished foes campaign trail including cruz kasich ken cope texas delegate backed cruz president vote trump said new york businessman needs “ swallow pride ” stress contributions defeated rivals made priy process instead belittling “ he ’ s prideful man he ’ s proud we ’ re general election campaign it ’ s going take us pulling rope we ’ re going pull ship final line ” cope said still others said trump needed disciplined trump supporter john whitmer delegate wichita kansas said trump made mistake going fox news monday night rail kasich speakers lauding candidacy televised convention “ you stepped best act ” whitmer said “ i get want talk kasich everybody needed watching going there ” wednesday night best hope republican party come togetherrest clinton frequently vilified cleveland convention week formally nominated democratic presidential nominee party ’ s convention philadelphia next week asked party unified former speaker house representatives close trump adviser newt gingrich replied “ no end philadelphia ” “ trump get us percent unity she ’ ll get us rest ”</td>\n",
              "      <td>politicsnews</td>\n",
              "      <td>July 21, 2016</td>\n",
              "      <td>0</td>\n",
              "    </tr>\n",
              "  </tbody>\n",
              "</table>\n",
              "</div>\n",
              "      <button class=\"colab-df-convert\" onclick=\"convertToInteractive('df-fd3e27ba-4099-4a2b-98a1-184a1f688905')\"\n",
              "              title=\"Convert this dataframe to an interactive table.\"\n",
              "              style=\"display:none;\">\n",
              "        \n",
              "  <svg xmlns=\"http://www.w3.org/2000/svg\" height=\"24px\"viewBox=\"0 0 24 24\"\n",
              "       width=\"24px\">\n",
              "    <path d=\"M0 0h24v24H0V0z\" fill=\"none\"/>\n",
              "    <path d=\"M18.56 5.44l.94 2.06.94-2.06 2.06-.94-2.06-.94-.94-2.06-.94 2.06-2.06.94zm-11 1L8.5 8.5l.94-2.06 2.06-.94-2.06-.94L8.5 2.5l-.94 2.06-2.06.94zm10 10l.94 2.06.94-2.06 2.06-.94-2.06-.94-.94-2.06-.94 2.06-2.06.94z\"/><path d=\"M17.41 7.96l-1.37-1.37c-.4-.4-.92-.59-1.43-.59-.52 0-1.04.2-1.43.59L10.3 9.45l-7.72 7.72c-.78.78-.78 2.05 0 2.83L4 21.41c.39.39.9.59 1.41.59.51 0 1.02-.2 1.41-.59l7.78-7.78 2.81-2.81c.8-.78.8-2.07 0-2.86zM5.41 20L4 18.59l7.72-7.72 1.47 1.35L5.41 20z\"/>\n",
              "  </svg>\n",
              "      </button>\n",
              "      \n",
              "  <style>\n",
              "    .colab-df-container {\n",
              "      display:flex;\n",
              "      flex-wrap:wrap;\n",
              "      gap: 12px;\n",
              "    }\n",
              "\n",
              "    .colab-df-convert {\n",
              "      background-color: #E8F0FE;\n",
              "      border: none;\n",
              "      border-radius: 50%;\n",
              "      cursor: pointer;\n",
              "      display: none;\n",
              "      fill: #1967D2;\n",
              "      height: 32px;\n",
              "      padding: 0 0 0 0;\n",
              "      width: 32px;\n",
              "    }\n",
              "\n",
              "    .colab-df-convert:hover {\n",
              "      background-color: #E2EBFA;\n",
              "      box-shadow: 0px 1px 2px rgba(60, 64, 67, 0.3), 0px 1px 3px 1px rgba(60, 64, 67, 0.15);\n",
              "      fill: #174EA6;\n",
              "    }\n",
              "\n",
              "    [theme=dark] .colab-df-convert {\n",
              "      background-color: #3B4455;\n",
              "      fill: #D2E3FC;\n",
              "    }\n",
              "\n",
              "    [theme=dark] .colab-df-convert:hover {\n",
              "      background-color: #434B5C;\n",
              "      box-shadow: 0px 1px 3px 1px rgba(0, 0, 0, 0.15);\n",
              "      filter: drop-shadow(0px 1px 2px rgba(0, 0, 0, 0.3));\n",
              "      fill: #FFFFFF;\n",
              "    }\n",
              "  </style>\n",
              "\n",
              "      <script>\n",
              "        const buttonEl =\n",
              "          document.querySelector('#df-fd3e27ba-4099-4a2b-98a1-184a1f688905 button.colab-df-convert');\n",
              "        buttonEl.style.display =\n",
              "          google.colab.kernel.accessAllowed ? 'block' : 'none';\n",
              "\n",
              "        async function convertToInteractive(key) {\n",
              "          const element = document.querySelector('#df-fd3e27ba-4099-4a2b-98a1-184a1f688905');\n",
              "          const dataTable =\n",
              "            await google.colab.kernel.invokeFunction('convertToInteractive',\n",
              "                                                     [key], {});\n",
              "          if (!dataTable) return;\n",
              "\n",
              "          const docLinkHtml = 'Like what you see? Visit the ' +\n",
              "            '<a target=\"_blank\" href=https://colab.research.google.com/notebooks/data_table.ipynb>data table notebook</a>'\n",
              "            + ' to learn more about interactive tables.';\n",
              "          element.innerHTML = '';\n",
              "          dataTable['output_type'] = 'display_data';\n",
              "          await google.colab.output.renderOutput(dataTable, element);\n",
              "          const docLink = document.createElement('div');\n",
              "          docLink.innerHTML = docLinkHtml;\n",
              "          element.appendChild(docLink);\n",
              "        }\n",
              "      </script>\n",
              "    </div>\n",
              "  </div>\n",
              "  "
            ]
          },
          "metadata": {},
          "execution_count": 16
        }
      ]
    },
    {
      "cell_type": "markdown",
      "source": [
        "## Stemming"
      ],
      "metadata": {
        "id": "TGY75wPRGuMJ"
      }
    },
    {
      "cell_type": "code",
      "source": [
        "stemmer = PorterStemmer()\n",
        "\n",
        "def stem_words(text):\n",
        "    return ' '.join([stemmer.stem(word) for word in text.split()])"
      ],
      "metadata": {
        "id": "_8FmlCmjIFgB"
      },
      "execution_count": null,
      "outputs": []
    },
    {
      "cell_type": "code",
      "source": [
        "df_steammed = df.copy()\n",
        "df_steammed.text = df_steammed.text.apply(lambda text: stem_words(text))"
      ],
      "metadata": {
        "id": "l4S5GaiNa0iG"
      },
      "execution_count": null,
      "outputs": []
    },
    {
      "cell_type": "markdown",
      "source": [
        "## Convert accented characters to ASCII characters\n",
        "\n"
      ],
      "metadata": {
        "id": "AY8EBgrlMasF"
      }
    },
    {
      "cell_type": "code",
      "source": [
        "def accented_to_ascii(text):\n",
        "    return unidecode.unidecode(text)"
      ],
      "metadata": {
        "id": "9UFJe0sebEW6"
      },
      "execution_count": null,
      "outputs": []
    },
    {
      "cell_type": "code",
      "source": [
        "df_steammed.text = df_steammed.text.apply(lambda x: accented_to_ascii(x))"
      ],
      "metadata": {
        "id": "-K8eeVXZjKJh"
      },
      "execution_count": null,
      "outputs": []
    },
    {
      "cell_type": "markdown",
      "source": [
        "# **Delete NaN text data**"
      ],
      "metadata": {
        "id": "SIVQ9Y9jcs3S"
      }
    },
    {
      "cell_type": "code",
      "source": [
        "# missing_values_count = df_steammed.isnull().sum() # jumlah data yang hilang per kolom\n",
        "# print(\"Number of missing data points per column:\\n\")\n",
        "# print (missing_values_count)\n",
        "\n",
        "df_steammed.dropna(inplace=True)\n",
        "\n",
        "# print(df_steammed.isna().sum(),'\\n')"
      ],
      "metadata": {
        "id": "_RJWXQKjcsV_"
      },
      "execution_count": null,
      "outputs": []
    },
    {
      "cell_type": "code",
      "source": [
        "# Cek lagi\n",
        "# Mengecek nilai null\n",
        "# print(df_steammed.isna().sum(),'\\n')\n",
        "\n",
        "#Total missing value\n",
        "# print('Total NaN = ',df_steammed.isna().sum().sum())"
      ],
      "metadata": {
        "id": "ifAJE868dSnz"
      },
      "execution_count": null,
      "outputs": []
    },
    {
      "cell_type": "markdown",
      "source": [
        "# **Splitting Dataset**"
      ],
      "metadata": {
        "id": "yqxsqtysq-zI"
      }
    },
    {
      "cell_type": "code",
      "source": [
        "train, test = train_test_split(df_steammed, test_size=0.3, random_state=35)"
      ],
      "metadata": {
        "id": "LFj0cTb-rDsV"
      },
      "execution_count": null,
      "outputs": []
    },
    {
      "cell_type": "markdown",
      "source": [
        "# **Save clean data to csv**"
      ],
      "metadata": {
        "id": "DKUYLs2kYNS1"
      }
    },
    {
      "cell_type": "code",
      "source": [
        "train.to_csv('train_fake_and_real_news.csv', index=False)\n",
        "test.to_csv('test_fake_and_real_news.csv', index=False)"
      ],
      "metadata": {
        "id": "BFdXZ2IvYZe5"
      },
      "execution_count": null,
      "outputs": []
    },
    {
      "cell_type": "markdown",
      "source": [
        "# **Download clean data**"
      ],
      "metadata": {
        "id": "D87IR7JU2ctm"
      }
    },
    {
      "cell_type": "code",
      "source": [
        "from google.colab import files\n",
        "files.download('train_fake_and_real_news.csv')\n",
        "files.download('test_fake_and_real_news.csv')"
      ],
      "metadata": {
        "colab": {
          "base_uri": "https://localhost:8080/",
          "height": 17
        },
        "id": "_Vj11KNR2O0m",
        "outputId": "c1abbab3-e141-415d-ba6e-557ffebae8ce"
      },
      "execution_count": null,
      "outputs": [
        {
          "output_type": "display_data",
          "data": {
            "text/plain": [
              "<IPython.core.display.Javascript object>"
            ],
            "application/javascript": [
              "\n",
              "    async function download(id, filename, size) {\n",
              "      if (!google.colab.kernel.accessAllowed) {\n",
              "        return;\n",
              "      }\n",
              "      const div = document.createElement('div');\n",
              "      const label = document.createElement('label');\n",
              "      label.textContent = `Downloading \"${filename}\": `;\n",
              "      div.appendChild(label);\n",
              "      const progress = document.createElement('progress');\n",
              "      progress.max = size;\n",
              "      div.appendChild(progress);\n",
              "      document.body.appendChild(div);\n",
              "\n",
              "      const buffers = [];\n",
              "      let downloaded = 0;\n",
              "\n",
              "      const channel = await google.colab.kernel.comms.open(id);\n",
              "      // Send a message to notify the kernel that we're ready.\n",
              "      channel.send({})\n",
              "\n",
              "      for await (const message of channel.messages) {\n",
              "        // Send a message to notify the kernel that we're ready.\n",
              "        channel.send({})\n",
              "        if (message.buffers) {\n",
              "          for (const buffer of message.buffers) {\n",
              "            buffers.push(buffer);\n",
              "            downloaded += buffer.byteLength;\n",
              "            progress.value = downloaded;\n",
              "          }\n",
              "        }\n",
              "      }\n",
              "      const blob = new Blob(buffers, {type: 'application/binary'});\n",
              "      const a = document.createElement('a');\n",
              "      a.href = window.URL.createObjectURL(blob);\n",
              "      a.download = filename;\n",
              "      div.appendChild(a);\n",
              "      a.click();\n",
              "      div.remove();\n",
              "    }\n",
              "  "
            ]
          },
          "metadata": {}
        },
        {
          "output_type": "display_data",
          "data": {
            "text/plain": [
              "<IPython.core.display.Javascript object>"
            ],
            "application/javascript": [
              "download(\"download_1d42817f-f529-45eb-a876-5578a749bfb7\", \"steam_clean_fake_and_real_news.csv\", 72349552)"
            ]
          },
          "metadata": {}
        },
        {
          "output_type": "display_data",
          "data": {
            "text/plain": [
              "<IPython.core.display.Javascript object>"
            ],
            "application/javascript": [
              "\n",
              "    async function download(id, filename, size) {\n",
              "      if (!google.colab.kernel.accessAllowed) {\n",
              "        return;\n",
              "      }\n",
              "      const div = document.createElement('div');\n",
              "      const label = document.createElement('label');\n",
              "      label.textContent = `Downloading \"${filename}\": `;\n",
              "      div.appendChild(label);\n",
              "      const progress = document.createElement('progress');\n",
              "      progress.max = size;\n",
              "      div.appendChild(progress);\n",
              "      document.body.appendChild(div);\n",
              "\n",
              "      const buffers = [];\n",
              "      let downloaded = 0;\n",
              "\n",
              "      const channel = await google.colab.kernel.comms.open(id);\n",
              "      // Send a message to notify the kernel that we're ready.\n",
              "      channel.send({})\n",
              "\n",
              "      for await (const message of channel.messages) {\n",
              "        // Send a message to notify the kernel that we're ready.\n",
              "        channel.send({})\n",
              "        if (message.buffers) {\n",
              "          for (const buffer of message.buffers) {\n",
              "            buffers.push(buffer);\n",
              "            downloaded += buffer.byteLength;\n",
              "            progress.value = downloaded;\n",
              "          }\n",
              "        }\n",
              "      }\n",
              "      const blob = new Blob(buffers, {type: 'application/binary'});\n",
              "      const a = document.createElement('a');\n",
              "      a.href = window.URL.createObjectURL(blob);\n",
              "      a.download = filename;\n",
              "      div.appendChild(a);\n",
              "      a.click();\n",
              "      div.remove();\n",
              "    }\n",
              "  "
            ]
          },
          "metadata": {}
        },
        {
          "output_type": "display_data",
          "data": {
            "text/plain": [
              "<IPython.core.display.Javascript object>"
            ],
            "application/javascript": [
              "download(\"download_a744b2bd-6d4c-4a79-a720-25362afd1ed0\", \"lemma_clean_fake_and_real_news.csv\", 80761270)"
            ]
          },
          "metadata": {}
        }
      ]
    }
  ]
}